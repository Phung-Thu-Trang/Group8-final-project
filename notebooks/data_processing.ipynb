{
  "cells": [
    {
      "cell_type": "markdown",
      "metadata": {
        "id": "view-in-github",
        "colab_type": "text"
      },
      "source": [
        "<a href=\"https://colab.research.google.com/github/Phung-Thu-Trang/Group8-final-project/blob/trang/data_processing.ipynb\" target=\"_parent\"><img src=\"https://colab.research.google.com/assets/colab-badge.svg\" alt=\"Open In Colab\"/></a>"
      ]
    },
    {
      "cell_type": "code",
      "execution_count": 19,
      "metadata": {
        "colab": {
          "base_uri": "https://localhost:8080/"
        },
        "id": "aoED5CXEvsFr",
        "outputId": "dc82ff9e-f210-48d7-b6ae-10ad22b92c78"
      },
      "outputs": [
        {
          "output_type": "stream",
          "name": "stdout",
          "text": [
            "Requirement already satisfied: pyspark in /usr/local/lib/python3.11/dist-packages (3.5.1)\n",
            "Requirement already satisfied: py4j==0.10.9.7 in /usr/local/lib/python3.11/dist-packages (from pyspark) (0.10.9.7)\n"
          ]
        }
      ],
      "source": [
        "# Cài đặt PySpark nếu chưa có\n",
        "!pip install pyspark\n"
      ]
    },
    {
      "cell_type": "code",
      "execution_count": 20,
      "metadata": {
        "id": "yfjZ0lF6yELG"
      },
      "outputs": [],
      "source": [
        "import numpy as np\n",
        "import matplotlib.pyplot as plt\n",
        "import seaborn as sns\n",
        "import pandas as pd\n",
        "from pyspark.sql import SparkSession\n",
        "from pyspark.sql.functions import to_date\n",
        "from pyspark.sql.functions import col, mean, stddev, when, count\n"
      ]
    },
    {
      "cell_type": "code",
      "execution_count": 21,
      "metadata": {
        "id": "FGumy95ov6p9"
      },
      "outputs": [],
      "source": [
        "# Khởi tạo SparkSession\n",
        "from pyspark.sql import SparkSession\n",
        "\n",
        "spark = SparkSession.builder \\\n",
        "    .appName(\"IBM Stock Data\") \\\n",
        "    .getOrCreate()\n"
      ]
    },
    {
      "cell_type": "code",
      "execution_count": 22,
      "metadata": {
        "colab": {
          "base_uri": "https://localhost:8080/",
          "height": 73
        },
        "id": "bYJxbEvFwAC4",
        "outputId": "ded3fc9b-0429-4739-f188-85d1187e3a4b"
      },
      "outputs": [
        {
          "output_type": "display_data",
          "data": {
            "text/plain": [
              "<IPython.core.display.HTML object>"
            ],
            "text/html": [
              "\n",
              "     <input type=\"file\" id=\"files-b076949d-2243-4cf5-a33f-8de255ba0d92\" name=\"files[]\" multiple disabled\n",
              "        style=\"border:none\" />\n",
              "     <output id=\"result-b076949d-2243-4cf5-a33f-8de255ba0d92\">\n",
              "      Upload widget is only available when the cell has been executed in the\n",
              "      current browser session. Please rerun this cell to enable.\n",
              "      </output>\n",
              "      <script>// Copyright 2017 Google LLC\n",
              "//\n",
              "// Licensed under the Apache License, Version 2.0 (the \"License\");\n",
              "// you may not use this file except in compliance with the License.\n",
              "// You may obtain a copy of the License at\n",
              "//\n",
              "//      http://www.apache.org/licenses/LICENSE-2.0\n",
              "//\n",
              "// Unless required by applicable law or agreed to in writing, software\n",
              "// distributed under the License is distributed on an \"AS IS\" BASIS,\n",
              "// WITHOUT WARRANTIES OR CONDITIONS OF ANY KIND, either express or implied.\n",
              "// See the License for the specific language governing permissions and\n",
              "// limitations under the License.\n",
              "\n",
              "/**\n",
              " * @fileoverview Helpers for google.colab Python module.\n",
              " */\n",
              "(function(scope) {\n",
              "function span(text, styleAttributes = {}) {\n",
              "  const element = document.createElement('span');\n",
              "  element.textContent = text;\n",
              "  for (const key of Object.keys(styleAttributes)) {\n",
              "    element.style[key] = styleAttributes[key];\n",
              "  }\n",
              "  return element;\n",
              "}\n",
              "\n",
              "// Max number of bytes which will be uploaded at a time.\n",
              "const MAX_PAYLOAD_SIZE = 100 * 1024;\n",
              "\n",
              "function _uploadFiles(inputId, outputId) {\n",
              "  const steps = uploadFilesStep(inputId, outputId);\n",
              "  const outputElement = document.getElementById(outputId);\n",
              "  // Cache steps on the outputElement to make it available for the next call\n",
              "  // to uploadFilesContinue from Python.\n",
              "  outputElement.steps = steps;\n",
              "\n",
              "  return _uploadFilesContinue(outputId);\n",
              "}\n",
              "\n",
              "// This is roughly an async generator (not supported in the browser yet),\n",
              "// where there are multiple asynchronous steps and the Python side is going\n",
              "// to poll for completion of each step.\n",
              "// This uses a Promise to block the python side on completion of each step,\n",
              "// then passes the result of the previous step as the input to the next step.\n",
              "function _uploadFilesContinue(outputId) {\n",
              "  const outputElement = document.getElementById(outputId);\n",
              "  const steps = outputElement.steps;\n",
              "\n",
              "  const next = steps.next(outputElement.lastPromiseValue);\n",
              "  return Promise.resolve(next.value.promise).then((value) => {\n",
              "    // Cache the last promise value to make it available to the next\n",
              "    // step of the generator.\n",
              "    outputElement.lastPromiseValue = value;\n",
              "    return next.value.response;\n",
              "  });\n",
              "}\n",
              "\n",
              "/**\n",
              " * Generator function which is called between each async step of the upload\n",
              " * process.\n",
              " * @param {string} inputId Element ID of the input file picker element.\n",
              " * @param {string} outputId Element ID of the output display.\n",
              " * @return {!Iterable<!Object>} Iterable of next steps.\n",
              " */\n",
              "function* uploadFilesStep(inputId, outputId) {\n",
              "  const inputElement = document.getElementById(inputId);\n",
              "  inputElement.disabled = false;\n",
              "\n",
              "  const outputElement = document.getElementById(outputId);\n",
              "  outputElement.innerHTML = '';\n",
              "\n",
              "  const pickedPromise = new Promise((resolve) => {\n",
              "    inputElement.addEventListener('change', (e) => {\n",
              "      resolve(e.target.files);\n",
              "    });\n",
              "  });\n",
              "\n",
              "  const cancel = document.createElement('button');\n",
              "  inputElement.parentElement.appendChild(cancel);\n",
              "  cancel.textContent = 'Cancel upload';\n",
              "  const cancelPromise = new Promise((resolve) => {\n",
              "    cancel.onclick = () => {\n",
              "      resolve(null);\n",
              "    };\n",
              "  });\n",
              "\n",
              "  // Wait for the user to pick the files.\n",
              "  const files = yield {\n",
              "    promise: Promise.race([pickedPromise, cancelPromise]),\n",
              "    response: {\n",
              "      action: 'starting',\n",
              "    }\n",
              "  };\n",
              "\n",
              "  cancel.remove();\n",
              "\n",
              "  // Disable the input element since further picks are not allowed.\n",
              "  inputElement.disabled = true;\n",
              "\n",
              "  if (!files) {\n",
              "    return {\n",
              "      response: {\n",
              "        action: 'complete',\n",
              "      }\n",
              "    };\n",
              "  }\n",
              "\n",
              "  for (const file of files) {\n",
              "    const li = document.createElement('li');\n",
              "    li.append(span(file.name, {fontWeight: 'bold'}));\n",
              "    li.append(span(\n",
              "        `(${file.type || 'n/a'}) - ${file.size} bytes, ` +\n",
              "        `last modified: ${\n",
              "            file.lastModifiedDate ? file.lastModifiedDate.toLocaleDateString() :\n",
              "                                    'n/a'} - `));\n",
              "    const percent = span('0% done');\n",
              "    li.appendChild(percent);\n",
              "\n",
              "    outputElement.appendChild(li);\n",
              "\n",
              "    const fileDataPromise = new Promise((resolve) => {\n",
              "      const reader = new FileReader();\n",
              "      reader.onload = (e) => {\n",
              "        resolve(e.target.result);\n",
              "      };\n",
              "      reader.readAsArrayBuffer(file);\n",
              "    });\n",
              "    // Wait for the data to be ready.\n",
              "    let fileData = yield {\n",
              "      promise: fileDataPromise,\n",
              "      response: {\n",
              "        action: 'continue',\n",
              "      }\n",
              "    };\n",
              "\n",
              "    // Use a chunked sending to avoid message size limits. See b/62115660.\n",
              "    let position = 0;\n",
              "    do {\n",
              "      const length = Math.min(fileData.byteLength - position, MAX_PAYLOAD_SIZE);\n",
              "      const chunk = new Uint8Array(fileData, position, length);\n",
              "      position += length;\n",
              "\n",
              "      const base64 = btoa(String.fromCharCode.apply(null, chunk));\n",
              "      yield {\n",
              "        response: {\n",
              "          action: 'append',\n",
              "          file: file.name,\n",
              "          data: base64,\n",
              "        },\n",
              "      };\n",
              "\n",
              "      let percentDone = fileData.byteLength === 0 ?\n",
              "          100 :\n",
              "          Math.round((position / fileData.byteLength) * 100);\n",
              "      percent.textContent = `${percentDone}% done`;\n",
              "\n",
              "    } while (position < fileData.byteLength);\n",
              "  }\n",
              "\n",
              "  // All done.\n",
              "  yield {\n",
              "    response: {\n",
              "      action: 'complete',\n",
              "    }\n",
              "  };\n",
              "}\n",
              "\n",
              "scope.google = scope.google || {};\n",
              "scope.google.colab = scope.google.colab || {};\n",
              "scope.google.colab._files = {\n",
              "  _uploadFiles,\n",
              "  _uploadFilesContinue,\n",
              "};\n",
              "})(self);\n",
              "</script> "
            ]
          },
          "metadata": {}
        },
        {
          "output_type": "stream",
          "name": "stdout",
          "text": [
            "Saving IBM.csv to IBM (2).csv\n"
          ]
        }
      ],
      "source": [
        "from google.colab import files\n",
        "uploaded = files.upload()\n"
      ]
    },
    {
      "cell_type": "code",
      "execution_count": 23,
      "metadata": {
        "colab": {
          "base_uri": "https://localhost:8080/"
        },
        "id": "uzbpda6Gw0SB",
        "outputId": "3f0214e3-2055-4e0d-8f14-b7057ffcda6f"
      },
      "outputs": [
        {
          "output_type": "stream",
          "name": "stdout",
          "text": [
            "root\n",
            " |-- date: string (nullable = true)\n",
            " |-- open: double (nullable = true)\n",
            " |-- high: double (nullable = true)\n",
            " |-- low: double (nullable = true)\n",
            " |-- close: double (nullable = true)\n",
            " |-- volume: integer (nullable = true)\n",
            "\n",
            "+-------+---------+------------------+------------------+------------------+-----------------+------------------+\n",
            "|summary|     date|              open|              high|               low|            close|            volume|\n",
            "+-------+---------+------------------+------------------+------------------+-----------------+------------------+\n",
            "|  count|    15946|             15946|             15946|             15946|            15946|             15946|\n",
            "|   mean|     NULL| 40.43062425059552|40.802488680546766|40.077803580835365|40.44940021949066|1825068.3348175092|\n",
            "| stddev|     NULL|47.238127846900696|  47.6467088937108|46.850355960161465|47.27480817329008|  2169698.86385416|\n",
            "|    min|1/10/1962|            0.8127|            0.8538|            0.7967|           0.8127|                 0|\n",
            "|    max| 9/9/2024|           262.207|           264.689|           260.417|           262.99|          36346798|\n",
            "+-------+---------+------------------+------------------+------------------+-----------------+------------------+\n",
            "\n",
            "+--------+------+------+------+------+------+\n",
            "|    date|  open|  high|   low| close|volume|\n",
            "+--------+------+------+------+------+------+\n",
            "|1/2/1962|1.5364|1.5364|1.5191|1.5191|  4063|\n",
            "|1/3/1962|1.5191|1.5324|1.5191|1.5324|  3047|\n",
            "|1/4/1962|1.5324|1.5324|1.5164|1.5171|  2735|\n",
            "|1/5/1962|1.5151|1.5151|1.4845|1.4872|  3828|\n",
            "|1/8/1962|1.4859|1.4859|1.4474|1.4593|  5703|\n",
            "+--------+------+------+------+------+------+\n",
            "only showing top 5 rows\n",
            "\n"
          ]
        }
      ],
      "source": [
        "df = spark.read.csv(\"IBM.csv\", header=True, inferSchema=True)\n",
        "# In ra cấu trúc (schema) của dataframe\n",
        "df.printSchema()\n",
        "df.describe().show()# Thống kê mô tả (mean, stddev, min, max)\n",
        "df.show(5)\n"
      ]
    },
    {
      "cell_type": "code",
      "execution_count": 24,
      "metadata": {
        "id": "Da34db_hx5G5",
        "colab": {
          "base_uri": "https://localhost:8080/"
        },
        "outputId": "6555ca83-d30a-42f3-d2af-df0edf2fc5fe"
      },
      "outputs": [
        {
          "output_type": "stream",
          "name": "stdout",
          "text": [
            "+-----+-----+-----+-----+-----+------+\n",
            "| date| open| high|  low|close|volume|\n",
            "+-----+-----+-----+-----+-----+------+\n",
            "|false|false|false|false|false| false|\n",
            "|false|false|false|false|false| false|\n",
            "|false|false|false|false|false| false|\n",
            "|false|false|false|false|false| false|\n",
            "|false|false|false|false|false| false|\n",
            "|false|false|false|false|false| false|\n",
            "|false|false|false|false|false| false|\n",
            "|false|false|false|false|false| false|\n",
            "|false|false|false|false|false| false|\n",
            "|false|false|false|false|false| false|\n",
            "|false|false|false|false|false| false|\n",
            "|false|false|false|false|false| false|\n",
            "|false|false|false|false|false| false|\n",
            "|false|false|false|false|false| false|\n",
            "|false|false|false|false|false| false|\n",
            "|false|false|false|false|false| false|\n",
            "|false|false|false|false|false| false|\n",
            "|false|false|false|false|false| false|\n",
            "|false|false|false|false|false| false|\n",
            "|false|false|false|false|false| false|\n",
            "+-----+-----+-----+-----+-----+------+\n",
            "only showing top 20 rows\n",
            "\n",
            "+----+----+----+---+-----+------+\n",
            "|date|open|high|low|close|volume|\n",
            "+----+----+----+---+-----+------+\n",
            "|   0|   0|   0|  0|    0|     0|\n",
            "+----+----+----+---+-----+------+\n",
            "\n",
            "+----------+------+------+------+------+------+\n",
            "|      date|  open|  high|   low| close|volume|\n",
            "+----------+------+------+------+------+------+\n",
            "|1962-01-02|1.5364|1.5364|1.5191|1.5191|  4063|\n",
            "|1962-01-03|1.5191|1.5324|1.5191|1.5324|  3047|\n",
            "|1962-01-04|1.5324|1.5324|1.5164|1.5171|  2735|\n",
            "|1962-01-05|1.5151|1.5151|1.4845|1.4872|  3828|\n",
            "|1962-01-08|1.4859|1.4859|1.4474|1.4593|  5703|\n",
            "+----------+------+------+------+------+------+\n",
            "only showing top 5 rows\n",
            "\n"
          ]
        }
      ],
      "source": [
        "# Kiểm tra null\n",
        "#from pyspark.sql.functions import col\n",
        "\n",
        "df.select([col(c).isNull().alias(c) for c in df.columns]).show()\n",
        "\n",
        "# Đếm số giá trị null trong từng cột\n",
        "df.select([count(when(col(c).isNull(), c)).alias(c) for c in df.columns]).show()\n",
        "\n",
        "\n",
        "# Loại bỏ các dòng bị null (nếu có)\n",
        "df_clean = df.dropna()\n",
        "\n",
        "# Chuyển đổi cột 'Date' sang định dạng ngày\n",
        "df_clean = df_clean.withColumn(\"date\", to_date(col(\"date\"), \"M/d/yyyy\"))\n",
        "\n",
        "# Điền giá trị trung bình cho các cột số bị thiếu\n",
        "numeric_cols = [\"close\", \"volume\", \"open\", \"high\", \"low\"]\n",
        "df = df.fillna({col_name: df.select(mean(col(col_name))).collect()[0][0] for col_name in numeric_cols})\n",
        "\n",
        "# Sắp xếp ngày theo thứ tự\n",
        "df_pd = df_clean.select(\"Date\", \"Close\").orderBy(\"Date\").toPandas()\n",
        "\n",
        "\n",
        "\n",
        "\n",
        "\n",
        "df_clean.show(5)"
      ]
    },
    {
      "cell_type": "code",
      "execution_count": 25,
      "metadata": {
        "id": "PRTxzfia0njk",
        "colab": {
          "base_uri": "https://localhost:8080/",
          "height": 17
        },
        "outputId": "a10f4cad-2559-486d-ef49-be52f8fce686"
      },
      "outputs": [
        {
          "output_type": "display_data",
          "data": {
            "text/plain": [
              "<IPython.core.display.Javascript object>"
            ],
            "application/javascript": [
              "\n",
              "    async function download(id, filename, size) {\n",
              "      if (!google.colab.kernel.accessAllowed) {\n",
              "        return;\n",
              "      }\n",
              "      const div = document.createElement('div');\n",
              "      const label = document.createElement('label');\n",
              "      label.textContent = `Downloading \"${filename}\": `;\n",
              "      div.appendChild(label);\n",
              "      const progress = document.createElement('progress');\n",
              "      progress.max = size;\n",
              "      div.appendChild(progress);\n",
              "      document.body.appendChild(div);\n",
              "\n",
              "      const buffers = [];\n",
              "      let downloaded = 0;\n",
              "\n",
              "      const channel = await google.colab.kernel.comms.open(id);\n",
              "      // Send a message to notify the kernel that we're ready.\n",
              "      channel.send({})\n",
              "\n",
              "      for await (const message of channel.messages) {\n",
              "        // Send a message to notify the kernel that we're ready.\n",
              "        channel.send({})\n",
              "        if (message.buffers) {\n",
              "          for (const buffer of message.buffers) {\n",
              "            buffers.push(buffer);\n",
              "            downloaded += buffer.byteLength;\n",
              "            progress.value = downloaded;\n",
              "          }\n",
              "        }\n",
              "      }\n",
              "      const blob = new Blob(buffers, {type: 'application/binary'});\n",
              "      const a = document.createElement('a');\n",
              "      a.href = window.URL.createObjectURL(blob);\n",
              "      a.download = filename;\n",
              "      div.appendChild(a);\n",
              "      a.click();\n",
              "      div.remove();\n",
              "    }\n",
              "  "
            ]
          },
          "metadata": {}
        },
        {
          "output_type": "display_data",
          "data": {
            "text/plain": [
              "<IPython.core.display.Javascript object>"
            ],
            "application/javascript": [
              "download(\"download_73bf6220-c177-4eed-806b-8f5705bab1f6\", \"IBM_clean.csv\", 765134)"
            ]
          },
          "metadata": {}
        }
      ],
      "source": [
        "# Chuyển DataFrame PySpark thành pandas và ghi ra file\n",
        "df_clean.toPandas().to_csv(\"IBM_clean.csv\", index=False)\n",
        "\n",
        "# Cho phép tải về file từ Colab\n",
        "from google.colab import files\n",
        "files.download(\"IBM_clean.csv\")\n"
      ]
    }
  ],
  "metadata": {
    "colab": {
      "provenance": [],
      "include_colab_link": true
    },
    "kernelspec": {
      "display_name": "Python 3",
      "name": "python3"
    },
    "language_info": {
      "name": "python"
    }
  },
  "nbformat": 4,
  "nbformat_minor": 0
}